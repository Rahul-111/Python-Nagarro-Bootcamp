{
 "cells": [
  {
   "cell_type": "markdown",
   "metadata": {},
   "source": [
    "# ***<center>Important built-in functions</center>***\n",
    "<img src=http://s2.quickmeme.com/img/2d/2ddc7d5b4e7d6ee47bfd5b33acf3a1201b49877a4163d5f49ee5ba05685ccaae.jpg height=400 width=400>"
   ]
  },
  {
   "cell_type": "markdown",
   "metadata": {},
   "source": [
    "## 1. sort\n",
    "\n",
    "<img src=http://s2.quickmeme.com/img/96/963e77d9824553104fd63cb3cbcd81867a61672d89482bc7a492aaa8f6935449.jpg height=400 width=400>\n",
    "\n",
    "- In place sorting: __iterable__.sort()\n",
    "    \n",
    "    \n",
    "- Return a sorted iterable: sorted(__iterable__)\n",
    "\n",
    "\n",
    "- Two optional arguments: **key** and **reverse**.\n",
    "    - ***key***: specifies a **function of one argument** that is used to extract a **comparison key** from each list element\n",
    "    - ***reverse***: A boolean value. If set to True, then the list elements are sorted as if each comparison were reversed."
   ]
  },
  {
   "cell_type": "code",
   "execution_count": 11,
   "metadata": {},
   "outputs": [],
   "source": [
    "l=[1,2,3,4,5]"
   ]
  },
  {
   "cell_type": "code",
   "execution_count": 12,
   "metadata": {},
   "outputs": [],
   "source": [
    "it=iter(l)"
   ]
  },
  {
   "cell_type": "code",
   "execution_count": 14,
   "metadata": {},
   "outputs": [
    {
     "data": {
      "text/plain": [
       "2"
      ]
     },
     "execution_count": 14,
     "metadata": {},
     "output_type": "execute_result"
    }
   ],
   "source": [
    "next(it) #move for 5times "
   ]
  },
  {
   "cell_type": "code",
   "execution_count": 23,
   "metadata": {},
   "outputs": [],
   "source": [
    "l=[('ram',3),('sort',9),('ravi',0),('ads',11),('anc',10),('smd',5)]"
   ]
  },
  {
   "cell_type": "code",
   "execution_count": 24,
   "metadata": {},
   "outputs": [],
   "source": [
    "l.sort()"
   ]
  },
  {
   "cell_type": "code",
   "execution_count": 25,
   "metadata": {},
   "outputs": [],
   "source": [
    "def sort_by_second(x):\n",
    "    return x[1]"
   ]
  },
  {
   "cell_type": "code",
   "execution_count": 26,
   "metadata": {},
   "outputs": [
    {
     "data": {
      "text/plain": [
       "[('ravi', 0), ('ram', 3), ('smd', 5), ('sort', 9), ('anc', 10), ('ads', 11)]"
      ]
     },
     "execution_count": 26,
     "metadata": {},
     "output_type": "execute_result"
    }
   ],
   "source": [
    "l.sort(key=sort_by_second)\n",
    "l.sort()"
   ]
  },
  {
   "cell_type": "markdown",
   "metadata": {},
   "source": [
    "## 2. enumerate\n",
    "\n",
    "```python\n",
    "enumerate(iterable)\n",
    "```\n",
    "\n",
    "Returns a tuple containing a count (from start which defaults to 0) and the values obtained from iterating over the iterable."
   ]
  },
  {
   "cell_type": "code",
   "execution_count": 35,
   "metadata": {},
   "outputs": [],
   "source": [
    "fruits=['apple','orange','banana']"
   ]
  },
  {
   "cell_type": "code",
   "execution_count": 36,
   "metadata": {},
   "outputs": [
    {
     "name": "stdout",
     "output_type": "stream",
     "text": [
      "apple\n",
      "orange\n",
      "banana\n"
     ]
    }
   ],
   "source": [
    "for f in fruits:\n",
    "    print(f)"
   ]
  },
  {
   "cell_type": "code",
   "execution_count": 33,
   "metadata": {},
   "outputs": [],
   "source": [
    "it=enumerate(fruits)"
   ]
  },
  {
   "cell_type": "code",
   "execution_count": 38,
   "metadata": {},
   "outputs": [
    {
     "name": "stdout",
     "output_type": "stream",
     "text": [
      "0 apple\n",
      "1 orange\n",
      "2 banana\n"
     ]
    }
   ],
   "source": [
    "for index,f in enumerate(fruits):\n",
    "    print(index,f)"
   ]
  },
  {
   "cell_type": "markdown",
   "metadata": {},
   "source": [
    "## 3. zip\n",
    "\n",
    "Make an iterator that aggregates elements from each of the iterables.\n",
    "\n",
    "![](http://s2.quickmeme.com/img/56/568cf8f60a23bea949f5bc0143607934e7fd8a7e5d0f5c44b86fc12c1ffb8185.jpg)"
   ]
  },
  {
   "cell_type": "code",
   "execution_count": 42,
   "metadata": {},
   "outputs": [],
   "source": [
    "names = ['Ram', 'Shyam', 'Ravi', 'Mohan']\n",
    "scores = [3,4,5,2]"
   ]
  },
  {
   "cell_type": "code",
   "execution_count": 50,
   "metadata": {},
   "outputs": [],
   "source": [
    "data =[]\n",
    "for i in range(len(names)):\n",
    "    data.append((names[i],scores[i]))"
   ]
  },
  {
   "cell_type": "code",
   "execution_count": 52,
   "metadata": {},
   "outputs": [
    {
     "data": {
      "text/plain": [
       "[('Ram', 3), ('Shyam', 4), ('Ravi', 5), ('Mohan', 2)]"
      ]
     },
     "execution_count": 52,
     "metadata": {},
     "output_type": "execute_result"
    }
   ],
   "source": [
    "list(zip(names,scores))"
   ]
  },
  {
   "cell_type": "code",
   "execution_count": 53,
   "metadata": {},
   "outputs": [
    {
     "data": {
      "text/plain": [
       "{'Ram': 3, 'Shyam': 4, 'Ravi': 5, 'Mohan': 2}"
      ]
     },
     "execution_count": 53,
     "metadata": {},
     "output_type": "execute_result"
    }
   ],
   "source": [
    "dict(list(zip(names,scores)))"
   ]
  },
  {
   "cell_type": "markdown",
   "metadata": {},
   "source": [
    "## 4. all and any\n",
    "\n",
    "![](https://i.imgflip.com/21cqld.jpg)\n",
    "\n",
    "- all\n",
    "\n",
    "Returns True if all elements of the iterable are true.\n",
    "\n",
    "- any\n",
    "\n",
    "Return True if any element of the iterable is true."
   ]
  },
  {
   "cell_type": "code",
   "execution_count": 54,
   "metadata": {},
   "outputs": [
    {
     "data": {
      "text/plain": [
       "False"
      ]
     },
     "execution_count": 54,
     "metadata": {},
     "output_type": "execute_result"
    }
   ],
   "source": [
    "all([True,True,False])"
   ]
  },
  {
   "cell_type": "code",
   "execution_count": 55,
   "metadata": {},
   "outputs": [
    {
     "data": {
      "text/plain": [
       "True"
      ]
     },
     "execution_count": 55,
     "metadata": {},
     "output_type": "execute_result"
    }
   ],
   "source": [
    "any([True,False])"
   ]
  },
  {
   "cell_type": "code",
   "execution_count": null,
   "metadata": {},
   "outputs": [],
   "source": []
  },
  {
   "cell_type": "markdown",
   "metadata": {},
   "source": [
    "## 5. globals and locals\n",
    "\n",
    "- **globals**\n",
    "\n",
    "    Return a dictionary representing the current global symbol table. \n",
    "    \n",
    "- **locals**\n",
    "\n",
    "    Return a dictionary representing the current local symbol table."
   ]
  },
  {
   "cell_type": "code",
   "execution_count": 56,
   "metadata": {},
   "outputs": [
    {
     "data": {
      "text/plain": [
       "{'__name__': '__main__',\n",
       " '__doc__': 'Automatically created module for IPython interactive environment',\n",
       " '__package__': None,\n",
       " '__loader__': None,\n",
       " '__spec__': None,\n",
       " '__builtin__': <module 'builtins' (built-in)>,\n",
       " '__builtins__': <module 'builtins' (built-in)>,\n",
       " '_ih': ['',\n",
       "  'l=[1,2,3,4,5]',\n",
       "  'it=iter(l)',\n",
       "  'it=iter(l)',\n",
       "  'next(it)',\n",
       "  'next(it)',\n",
       "  'next(it)',\n",
       "  'next(it)',\n",
       "  'next(it)',\n",
       "  'next(it)',\n",
       "  'next(it) #move for 5times ',\n",
       "  'l=[1,2,3,4,5]',\n",
       "  'it=iter(l)',\n",
       "  'next(it) #move for 5times ',\n",
       "  'next(it) #move for 5times ',\n",
       "  \"l=[('ram',3),('sort',3),('ravi',3),('ads',3),('anc',10),('smd',5)]\",\n",
       "  'l.sort()',\n",
       "  'l.sort()',\n",
       "  'def sort_by_second(x):\\n    return x[1]',\n",
       "  'def sort_by_second(x):\\n    return x[1]',\n",
       "  'l.sort(key=sort_by_second)',\n",
       "  'l.sort(key=sort_by_second)\\nl',\n",
       "  \"l=[('ram',3),('sort',9),('ravi',0),('ads',3),('anc',10),('smd',5)]\",\n",
       "  \"l=[('ram',3),('sort',9),('ravi',0),('ads',11),('anc',10),('smd',5)]\",\n",
       "  'l.sort()',\n",
       "  'def sort_by_second(x):\\n    return x[1]',\n",
       "  'l.sort(key=sort_by_second)\\nl',\n",
       "  \"fruits=['apple','orange','banana']\",\n",
       "  \"fruits=['apple','orange','banana']\",\n",
       "  'for f in fruits:\\n    print(f)',\n",
       "  'for f in fruits:\\n    print(f)',\n",
       "  'for f in fruits:\\n    print(f)',\n",
       "  'it=enumerate(fruits)',\n",
       "  'it=enumerate(fruits)',\n",
       "  'for index,f in enumerate(fruits):\\n    print(index,fruits)',\n",
       "  \"fruits=['apple','orange','banana']\",\n",
       "  'for f in fruits:\\n    print(f)',\n",
       "  'for index,f in enumerate(fruits):\\n    print(index,fruits)',\n",
       "  'for index,f in enumerate(fruits):\\n    print(index,f)',\n",
       "  \"names = ['Ram', 'Shyam', 'Ravi', 'Mohan']\\nscores = [3,4,5,2]\",\n",
       "  \"names = ['Ram', 'Shyam', 'Ravi', 'Mohan']\\nscores = [3,4,5,2]\",\n",
       "  'data =[]\\nfor i in range(len(names)):\\n    data.appen(names[i],scores[i])',\n",
       "  \"names = ['Ram', 'Shyam', 'Ravi', 'Mohan']\\nscores = [3,4,5,2]\",\n",
       "  'data =[]\\nfor i in range(len(names)):\\n    data.appen(names[i],scores[i])',\n",
       "  'data =[]\\nfor i in range(len(names)):\\n    data.append(names[i],scores[i])',\n",
       "  'data =[]\\nfor i in range(len(names)):\\n    #data.append(names[i],scores[i])',\n",
       "  'data =[]\\nfor i in range(len(names)):\\n    #data.append(names[i],scores[i',\n",
       "  'list(zip(names,scores))',\n",
       "  'data =[]\\nfor i in range(len(names)):\\n    data.append(names[i],scores[i])',\n",
       "  'data =[]\\nfor i in range(len(names)):\\n    data.append((names[i],scores[i])',\n",
       "  'data =[]\\nfor i in range(len(names)):\\n    data.append((names[i],scores[i]))',\n",
       "  'list(zip(names,scores))',\n",
       "  'list(zip(names,scores))',\n",
       "  'dict(list(zip(names,scores)))',\n",
       "  'all([True,True,False])',\n",
       "  'any([True,False])',\n",
       "  'globals()'],\n",
       " '_oh': {4: 1,\n",
       "  5: 2,\n",
       "  6: 3,\n",
       "  7: 4,\n",
       "  8: 5,\n",
       "  13: 1,\n",
       "  14: 2,\n",
       "  21: [('ads', 3),\n",
       "   ('ram', 3),\n",
       "   ('ravi', 3),\n",
       "   ('sort', 3),\n",
       "   ('smd', 5),\n",
       "   ('anc', 10)],\n",
       "  26: [('ravi', 0),\n",
       "   ('ram', 3),\n",
       "   ('smd', 5),\n",
       "   ('sort', 9),\n",
       "   ('anc', 10),\n",
       "   ('ads', 11)],\n",
       "  47: [('Ram', 3), ('Shyam', 4), ('Ravi', 5), ('Mohan', 2)],\n",
       "  51: [('Ram', 3), ('Shyam', 4), ('Ravi', 5), ('Mohan', 2)],\n",
       "  52: [('Ram', 3), ('Shyam', 4), ('Ravi', 5), ('Mohan', 2)],\n",
       "  53: {'Ram': 3, 'Shyam': 4, 'Ravi': 5, 'Mohan': 2},\n",
       "  54: False,\n",
       "  55: True},\n",
       " '_dh': ['C:\\\\Users\\\\Rahul\\\\Basics-of-Python-master'],\n",
       " 'In': ['',\n",
       "  'l=[1,2,3,4,5]',\n",
       "  'it=iter(l)',\n",
       "  'it=iter(l)',\n",
       "  'next(it)',\n",
       "  'next(it)',\n",
       "  'next(it)',\n",
       "  'next(it)',\n",
       "  'next(it)',\n",
       "  'next(it)',\n",
       "  'next(it) #move for 5times ',\n",
       "  'l=[1,2,3,4,5]',\n",
       "  'it=iter(l)',\n",
       "  'next(it) #move for 5times ',\n",
       "  'next(it) #move for 5times ',\n",
       "  \"l=[('ram',3),('sort',3),('ravi',3),('ads',3),('anc',10),('smd',5)]\",\n",
       "  'l.sort()',\n",
       "  'l.sort()',\n",
       "  'def sort_by_second(x):\\n    return x[1]',\n",
       "  'def sort_by_second(x):\\n    return x[1]',\n",
       "  'l.sort(key=sort_by_second)',\n",
       "  'l.sort(key=sort_by_second)\\nl',\n",
       "  \"l=[('ram',3),('sort',9),('ravi',0),('ads',3),('anc',10),('smd',5)]\",\n",
       "  \"l=[('ram',3),('sort',9),('ravi',0),('ads',11),('anc',10),('smd',5)]\",\n",
       "  'l.sort()',\n",
       "  'def sort_by_second(x):\\n    return x[1]',\n",
       "  'l.sort(key=sort_by_second)\\nl',\n",
       "  \"fruits=['apple','orange','banana']\",\n",
       "  \"fruits=['apple','orange','banana']\",\n",
       "  'for f in fruits:\\n    print(f)',\n",
       "  'for f in fruits:\\n    print(f)',\n",
       "  'for f in fruits:\\n    print(f)',\n",
       "  'it=enumerate(fruits)',\n",
       "  'it=enumerate(fruits)',\n",
       "  'for index,f in enumerate(fruits):\\n    print(index,fruits)',\n",
       "  \"fruits=['apple','orange','banana']\",\n",
       "  'for f in fruits:\\n    print(f)',\n",
       "  'for index,f in enumerate(fruits):\\n    print(index,fruits)',\n",
       "  'for index,f in enumerate(fruits):\\n    print(index,f)',\n",
       "  \"names = ['Ram', 'Shyam', 'Ravi', 'Mohan']\\nscores = [3,4,5,2]\",\n",
       "  \"names = ['Ram', 'Shyam', 'Ravi', 'Mohan']\\nscores = [3,4,5,2]\",\n",
       "  'data =[]\\nfor i in range(len(names)):\\n    data.appen(names[i],scores[i])',\n",
       "  \"names = ['Ram', 'Shyam', 'Ravi', 'Mohan']\\nscores = [3,4,5,2]\",\n",
       "  'data =[]\\nfor i in range(len(names)):\\n    data.appen(names[i],scores[i])',\n",
       "  'data =[]\\nfor i in range(len(names)):\\n    data.append(names[i],scores[i])',\n",
       "  'data =[]\\nfor i in range(len(names)):\\n    #data.append(names[i],scores[i])',\n",
       "  'data =[]\\nfor i in range(len(names)):\\n    #data.append(names[i],scores[i',\n",
       "  'list(zip(names,scores))',\n",
       "  'data =[]\\nfor i in range(len(names)):\\n    data.append(names[i],scores[i])',\n",
       "  'data =[]\\nfor i in range(len(names)):\\n    data.append((names[i],scores[i])',\n",
       "  'data =[]\\nfor i in range(len(names)):\\n    data.append((names[i],scores[i]))',\n",
       "  'list(zip(names,scores))',\n",
       "  'list(zip(names,scores))',\n",
       "  'dict(list(zip(names,scores)))',\n",
       "  'all([True,True,False])',\n",
       "  'any([True,False])',\n",
       "  'globals()'],\n",
       " 'Out': {4: 1,\n",
       "  5: 2,\n",
       "  6: 3,\n",
       "  7: 4,\n",
       "  8: 5,\n",
       "  13: 1,\n",
       "  14: 2,\n",
       "  21: [('ads', 3),\n",
       "   ('ram', 3),\n",
       "   ('ravi', 3),\n",
       "   ('sort', 3),\n",
       "   ('smd', 5),\n",
       "   ('anc', 10)],\n",
       "  26: [('ravi', 0),\n",
       "   ('ram', 3),\n",
       "   ('smd', 5),\n",
       "   ('sort', 9),\n",
       "   ('anc', 10),\n",
       "   ('ads', 11)],\n",
       "  47: [('Ram', 3), ('Shyam', 4), ('Ravi', 5), ('Mohan', 2)],\n",
       "  51: [('Ram', 3), ('Shyam', 4), ('Ravi', 5), ('Mohan', 2)],\n",
       "  52: [('Ram', 3), ('Shyam', 4), ('Ravi', 5), ('Mohan', 2)],\n",
       "  53: {'Ram': 3, 'Shyam': 4, 'Ravi': 5, 'Mohan': 2},\n",
       "  54: False,\n",
       "  55: True},\n",
       " 'get_ipython': <bound method InteractiveShell.get_ipython of <ipykernel.zmqshell.ZMQInteractiveShell object at 0x000001C18E029E10>>,\n",
       " 'exit': <IPython.core.autocall.ZMQExitAutocall at 0x1c18e090320>,\n",
       " 'quit': <IPython.core.autocall.ZMQExitAutocall at 0x1c18e090320>,\n",
       " '_': True,\n",
       " '__': False,\n",
       " '___': {'Ram': 3, 'Shyam': 4, 'Ravi': 5, 'Mohan': 2},\n",
       " '_i': 'any([True,False])',\n",
       " '_ii': 'all([True,True,False])',\n",
       " '_iii': 'dict(list(zip(names,scores)))',\n",
       " '_i1': 'l=[1,2,3,4,5]',\n",
       " 'l': [('ravi', 0),\n",
       "  ('ram', 3),\n",
       "  ('smd', 5),\n",
       "  ('sort', 9),\n",
       "  ('anc', 10),\n",
       "  ('ads', 11)],\n",
       " '_i2': 'it=iter(l)',\n",
       " 'it': <enumerate at 0x1c18e18e5a0>,\n",
       " '_i3': 'it=iter(l)',\n",
       " '_i4': 'next(it)',\n",
       " '_4': 1,\n",
       " '_i5': 'next(it)',\n",
       " '_5': 2,\n",
       " '_i6': 'next(it)',\n",
       " '_6': 3,\n",
       " '_i7': 'next(it)',\n",
       " '_7': 4,\n",
       " '_i8': 'next(it)',\n",
       " '_8': 5,\n",
       " '_i9': 'next(it)',\n",
       " '_i10': 'next(it) #move for 5times ',\n",
       " '_i11': 'l=[1,2,3,4,5]',\n",
       " '_i12': 'it=iter(l)',\n",
       " '_i13': 'next(it) #move for 5times ',\n",
       " '_13': 1,\n",
       " '_i14': 'next(it) #move for 5times ',\n",
       " '_14': 2,\n",
       " '_i15': \"l=[('ram',3),('sort',3),('ravi',3),('ads',3),('anc',10),('smd',5)]\",\n",
       " '_i16': 'l.sort()',\n",
       " '_i17': 'l.sort()',\n",
       " '_i18': 'def sort_by_second(x):\\n    return x[1]',\n",
       " 'sort_by_second': <function __main__.sort_by_second(x)>,\n",
       " '_i19': 'def sort_by_second(x):\\n    return x[1]',\n",
       " '_i20': 'l.sort(key=sort_by_second)',\n",
       " '_i21': 'l.sort(key=sort_by_second)\\nl',\n",
       " '_21': [('ads', 3),\n",
       "  ('ram', 3),\n",
       "  ('ravi', 3),\n",
       "  ('sort', 3),\n",
       "  ('smd', 5),\n",
       "  ('anc', 10)],\n",
       " '_i22': \"l=[('ram',3),('sort',9),('ravi',0),('ads',3),('anc',10),('smd',5)]\",\n",
       " '_i23': \"l=[('ram',3),('sort',9),('ravi',0),('ads',11),('anc',10),('smd',5)]\",\n",
       " '_i24': 'l.sort()',\n",
       " '_i25': 'def sort_by_second(x):\\n    return x[1]',\n",
       " '_i26': 'l.sort(key=sort_by_second)\\nl',\n",
       " '_26': [('ravi', 0),\n",
       "  ('ram', 3),\n",
       "  ('smd', 5),\n",
       "  ('sort', 9),\n",
       "  ('anc', 10),\n",
       "  ('ads', 11)],\n",
       " '_i27': \"fruits=['apple','orange','banana']\",\n",
       " 'fruits': ['apple', 'orange', 'banana'],\n",
       " '_i28': \"fruits=['apple','orange','banana']\",\n",
       " '_i29': 'for f in fruits:\\n    print(f)',\n",
       " 'f': 'banana',\n",
       " '_i30': 'for f in fruits:\\n    print(f)',\n",
       " '_i31': 'for f in fruits:\\n    print(f)',\n",
       " '_i32': 'it=enumerate(fruits)',\n",
       " '_i33': 'it=enumerate(fruits)',\n",
       " '_i34': 'for index,f in enumerate(fruits):\\n    print(index,fruits)',\n",
       " 'index': 2,\n",
       " '_i35': \"fruits=['apple','orange','banana']\",\n",
       " '_i36': 'for f in fruits:\\n    print(f)',\n",
       " '_i37': 'for index,f in enumerate(fruits):\\n    print(index,fruits)',\n",
       " '_i38': 'for index,f in enumerate(fruits):\\n    print(index,f)',\n",
       " '_i39': \"names = ['Ram', 'Shyam', 'Ravi', 'Mohan']\\nscores = [3,4,5,2]\",\n",
       " 'names': ['Ram', 'Shyam', 'Ravi', 'Mohan'],\n",
       " 'scores': [3, 4, 5, 2],\n",
       " '_i40': \"names = ['Ram', 'Shyam', 'Ravi', 'Mohan']\\nscores = [3,4,5,2]\",\n",
       " '_i41': 'data =[]\\nfor i in range(len(names)):\\n    data.appen(names[i],scores[i])',\n",
       " 'data': [('Ram', 3), ('Shyam', 4), ('Ravi', 5), ('Mohan', 2)],\n",
       " 'i': 3,\n",
       " '_i42': \"names = ['Ram', 'Shyam', 'Ravi', 'Mohan']\\nscores = [3,4,5,2]\",\n",
       " '_i43': 'data =[]\\nfor i in range(len(names)):\\n    data.appen(names[i],scores[i])',\n",
       " '_i44': 'data =[]\\nfor i in range(len(names)):\\n    data.append(names[i],scores[i])',\n",
       " '_i45': 'data =[]\\nfor i in range(len(names)):\\n    #data.append(names[i],scores[i])',\n",
       " '_i46': 'data =[]\\nfor i in range(len(names)):\\n    #data.append(names[i],scores[i',\n",
       " '_i47': 'list(zip(names,scores))',\n",
       " '_47': [('Ram', 3), ('Shyam', 4), ('Ravi', 5), ('Mohan', 2)],\n",
       " '_i48': 'data =[]\\nfor i in range(len(names)):\\n    data.append(names[i],scores[i])',\n",
       " '_i49': 'data =[]\\nfor i in range(len(names)):\\n    data.append((names[i],scores[i])',\n",
       " '_i50': 'data =[]\\nfor i in range(len(names)):\\n    data.append((names[i],scores[i]))',\n",
       " '_i51': 'list(zip(names,scores))',\n",
       " '_51': [('Ram', 3), ('Shyam', 4), ('Ravi', 5), ('Mohan', 2)],\n",
       " '_i52': 'list(zip(names,scores))',\n",
       " '_52': [('Ram', 3), ('Shyam', 4), ('Ravi', 5), ('Mohan', 2)],\n",
       " '_i53': 'dict(list(zip(names,scores)))',\n",
       " '_53': {'Ram': 3, 'Shyam': 4, 'Ravi': 5, 'Mohan': 2},\n",
       " '_i54': 'all([True,True,False])',\n",
       " '_54': False,\n",
       " '_i55': 'any([True,False])',\n",
       " '_55': True,\n",
       " '_i56': 'globals()'}"
      ]
     },
     "execution_count": 56,
     "metadata": {},
     "output_type": "execute_result"
    }
   ],
   "source": [
    "globals()"
   ]
  },
  {
   "cell_type": "code",
   "execution_count": 57,
   "metadata": {},
   "outputs": [],
   "source": [
    "def myfunc(a,b):\n",
    "    c=a+b\n",
    "    print(locals())\n",
    "    return c"
   ]
  },
  {
   "cell_type": "code",
   "execution_count": 58,
   "metadata": {},
   "outputs": [
    {
     "name": "stdout",
     "output_type": "stream",
     "text": [
      "{'c': 3, 'b': 2, 'a': 1}\n"
     ]
    },
    {
     "data": {
      "text/plain": [
       "3"
      ]
     },
     "execution_count": 58,
     "metadata": {},
     "output_type": "execute_result"
    }
   ],
   "source": [
    "myfunc(1,2)"
   ]
  },
  {
   "cell_type": "markdown",
   "metadata": {},
   "source": [
    "## 6. eval\n",
    "\n",
    "```python\n",
    "eval(expression, globals=None, locals=None)\n",
    "```\n",
    "\n",
    "The expression argument is parsed and evaluated as a Python expression using the globals and locals dictionaries as global and local namespace."
   ]
  },
  {
   "cell_type": "code",
   "execution_count": 59,
   "metadata": {},
   "outputs": [
    {
     "data": {
      "text/plain": [
       "6"
      ]
     },
     "execution_count": 59,
     "metadata": {},
     "output_type": "execute_result"
    }
   ],
   "source": [
    "eval(\"1+2+3\")"
   ]
  },
  {
   "cell_type": "markdown",
   "metadata": {},
   "source": [
    "## Other built-in functions can be found [here](https://docs.python.org/3/library/functions.html)"
   ]
  }
 ],
 "metadata": {
  "kernelspec": {
   "display_name": "Python 3",
   "language": "python",
   "name": "python3"
  },
  "language_info": {
   "codemirror_mode": {
    "name": "ipython",
    "version": 3
   },
   "file_extension": ".py",
   "mimetype": "text/x-python",
   "name": "python",
   "nbconvert_exporter": "python",
   "pygments_lexer": "ipython3",
   "version": "3.6.5"
  }
 },
 "nbformat": 4,
 "nbformat_minor": 2
}
