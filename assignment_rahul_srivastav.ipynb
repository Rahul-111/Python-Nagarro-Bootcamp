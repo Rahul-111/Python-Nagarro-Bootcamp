{
 "cells": [
  {
   "cell_type": "code",
   "execution_count": 4,
   "metadata": {},
   "outputs": [
    {
     "name": "stdout",
     "output_type": "stream",
     "text": [
      "Enter a number \t6\n",
      "6 6 6 6 6 6 \n",
      "\n",
      "6 5 5 5 5 6 \n",
      "\n",
      "6 5 4 4 5 6 \n",
      "\n",
      "6 5 4 4 5 6 \n",
      "\n",
      "6 5 5 5 5 6 \n",
      "\n",
      "6 6 6 6 6 6 \n",
      "\n"
     ]
    }
   ],
   "source": [
    "#Q1\n",
    "n=int(input('Enter a number \\t'))\n",
    "for i in range(0,n):\n",
    "    for j in range(0,n):\n",
    "        print(max(i+1,j+1,n-i,n-j),end=' ')\n",
    "    print('\\n')"
   ]
  },
  {
   "cell_type": "code",
   "execution_count": 18,
   "metadata": {},
   "outputs": [
    {
     "name": "stdout",
     "output_type": "stream",
     "text": [
      "Enter a number\t6\n",
      "          *           \n",
      "\n",
      "        * * *         \n",
      "\n",
      "      * * * * *       \n",
      "\n",
      "    * * * * * * *     \n",
      "\n",
      "  * * * * * * * * *   \n",
      "\n",
      "* * * * * * * * * * * \n",
      "\n"
     ]
    }
   ],
   "source": [
    "#Q2\n",
    "n = int(input('Enter a number\\t'))\n",
    "for i in range(1,n+1):\n",
    "    for j in range(1,2*n):\n",
    "        if n-i<j and j<n+i:\n",
    "            print('*' ,end=' ')\n",
    "        else:\n",
    "            print(\" \" ,end=' ')\n",
    "    print('\\n')"
   ]
  },
  {
   "cell_type": "code",
   "execution_count": 32,
   "metadata": {},
   "outputs": [
    {
     "name": "stdout",
     "output_type": "stream",
     "text": [
      "Enter a number\t5\n",
      "        A         \n",
      "\n",
      "      A B A       \n",
      "\n",
      "    A B C B A     \n",
      "\n",
      "  A B C D C B A   \n",
      "\n",
      "A B C D E D C B A \n",
      "\n"
     ]
    }
   ],
   "source": [
    "#Q3\n",
    "l=[' ','A','B','C','D','E','F','G','H','I','J','K','L','M','N','O','P','Q','R','S','T','U','V','W','X','Y','Z']\n",
    "n=int(input('Enter a number\\t'))\n",
    "for i in range(1,n+1):\n",
    "    k=1\n",
    "    for j in range(1,2*n):\n",
    "        if j>=n+1-i and j<=n-1+i:\n",
    "            print(l[k] , end=' ')\n",
    "            if j<n:\n",
    "                k+=1\n",
    "            else:\n",
    "                k-=1;\n",
    "        else:\n",
    "            print(' ',end=' ')\n",
    "    print('\\n')"
   ]
  },
  {
   "cell_type": "code",
   "execution_count": 5,
   "metadata": {},
   "outputs": [],
   "source": [
    "#Q4\n",
    "def printCombl():\n",
    "    n=input('Enter  characters \\t')\n",
    "    n=list(set(n))\n",
    "    k=int(input('Enter the length \\t'))\n",
    "    fun(n,k,\"\")\n",
    "def fun(n,k,s):\n",
    "    if len(s)==k:\n",
    "        print(s)\n",
    "        return\n",
    "    for i in n:\n",
    "        fun(n,k,s+i)"
   ]
  },
  {
   "cell_type": "code",
   "execution_count": 6,
   "metadata": {},
   "outputs": [
    {
     "name": "stdout",
     "output_type": "stream",
     "text": [
      "Enter  characters \tabcd\n",
      "Enter the length \t2\n",
      "bb\n",
      "ba\n",
      "bc\n",
      "bd\n",
      "ab\n",
      "aa\n",
      "ac\n",
      "ad\n",
      "cb\n",
      "ca\n",
      "cc\n",
      "cd\n",
      "db\n",
      "da\n",
      "dc\n",
      "dd\n"
     ]
    }
   ],
   "source": [
    "printCombl()"
   ]
  },
  {
   "cell_type": "code",
   "execution_count": 1,
   "metadata": {},
   "outputs": [
    {
     "name": "stdout",
     "output_type": "stream",
     "text": [
      "Enter number of student\t3\n",
      "Enter roll no \t11\n",
      "Enter Name\trahul\n",
      "Enter branch\tcse\n",
      "Enter roll no \t12\n",
      "Enter Name\tharsh\n",
      "Enter branch\tcse\n",
      "Enter roll no \t13\n",
      "Enter Name\tharshit\n",
      "Enter branch\tit\n"
     ]
    }
   ],
   "source": [
    "#Q5\n",
    "l=[]\n",
    "n=int(input('Enter number of student\\t'))\n",
    "for i in range(n):\n",
    "    dict={}\n",
    "    roll_no=int(input('Enter roll no \\t'))\n",
    "    name = input('Enter Name\\t')\n",
    "    branch=input('Enter branch\\t')\n",
    "    l.append(dict)\n",
    "    dict['roll-no']=roll_no\n",
    "    dict['name']=name\n",
    "    dict['branch']=branch"
   ]
  },
  {
   "cell_type": "code",
   "execution_count": 7,
   "metadata": {},
   "outputs": [
    {
     "name": "stdout",
     "output_type": "stream",
     "text": [
      "{'roll-no': 11, 'name': 'rahul', 'branch': 'cse'}\n",
      "{'roll-no': 12, 'name': 'harsh', 'branch': 'cse'}\n",
      "{'roll-no': 13, 'name': 'harshit', 'branch': 'it'}\n"
     ]
    }
   ],
   "source": [
    "for i in range(n):\n",
    "    print(l[i])"
   ]
  },
  {
   "cell_type": "code",
   "execution_count": 7,
   "metadata": {},
   "outputs": [],
   "source": [
    "#Q6\n",
    "l=[3,4,1,9,9,0,5,2,6,6,7]\n",
    "largest=l[0]\n",
    "scndlarge=-100\n",
    "for i in range(1,len(l)):\n",
    "    if largest < l[i]:\n",
    "        scndlarge=largest\n",
    "        largest=l[i]\n",
    "    elif scndlarge < l[i] and l[i]<largest:\n",
    "        scndlarge=l[i]\n",
    "    "
   ]
  },
  {
   "cell_type": "code",
   "execution_count": 8,
   "metadata": {},
   "outputs": [
    {
     "data": {
      "text/plain": [
       "7"
      ]
     },
     "execution_count": 8,
     "metadata": {},
     "output_type": "execute_result"
    }
   ],
   "source": [
    "scndlarge"
   ]
  },
  {
   "cell_type": "code",
   "execution_count": 11,
   "metadata": {},
   "outputs": [
    {
     "name": "stdout",
     "output_type": "stream",
     "text": [
      "Enter a pathC://Users//Rahul//Desktop//PythonProject\n"
     ]
    }
   ],
   "source": [
    "#Q7\n",
    "import os\n",
    "pathoffile=input('Enter a path')"
   ]
  },
  {
   "cell_type": "code",
   "execution_count": 12,
   "metadata": {},
   "outputs": [
    {
     "data": {
      "text/plain": [
       "['.git',\n",
       " '.gitignore',\n",
       " 'app.py',\n",
       " 'myvenv',\n",
       " 'procfile',\n",
       " 'requirement.txt',\n",
       " 'Templates']"
      ]
     },
     "execution_count": 12,
     "metadata": {},
     "output_type": "execute_result"
    }
   ],
   "source": [
    "os.listdir(path=pathoffile)"
   ]
  },
  {
   "cell_type": "code",
   "execution_count": 17,
   "metadata": {},
   "outputs": [],
   "source": [
    "path='C://Users//Rahul//Desktop//PythonProject/file.txt'\n",
    "os.rename(path,'C://Users//Rahul//Desktop//PythonProject/fileRenamed.txt')"
   ]
  },
  {
   "cell_type": "code",
   "execution_count": 20,
   "metadata": {},
   "outputs": [
    {
     "data": {
      "text/plain": [
       "['.git',\n",
       " '.gitignore',\n",
       " 'app.py',\n",
       " 'fileRenamed.txt',\n",
       " 'myvenv',\n",
       " 'procfile',\n",
       " 'requirement.txt',\n",
       " 'Templates']"
      ]
     },
     "execution_count": 20,
     "metadata": {},
     "output_type": "execute_result"
    }
   ],
   "source": [
    "path='C://Users//Rahul//Desktop//PythonProject'\n",
    "os.listdir(path)"
   ]
  },
  {
   "cell_type": "code",
   "execution_count": 21,
   "metadata": {},
   "outputs": [],
   "source": [
    "#Q8\n",
    "import random"
   ]
  },
  {
   "cell_type": "code",
   "execution_count": 26,
   "metadata": {},
   "outputs": [
    {
     "name": "stdout",
     "output_type": "stream",
     "text": [
      "Enter a number \t5\n",
      "You lose\n"
     ]
    }
   ],
   "source": [
    "n=random.randint(0,10)\n",
    "num = int(input('Enter a number \\t'))\n",
    "if num==n:\n",
    "    print('You Win!')\n",
    "else:\n",
    "    print('You lose')"
   ]
  },
  {
   "cell_type": "code",
   "execution_count": null,
   "metadata": {},
   "outputs": [],
   "source": []
  },
  {
   "cell_type": "code",
   "execution_count": null,
   "metadata": {},
   "outputs": [],
   "source": []
  }
 ],
 "metadata": {
  "kernelspec": {
   "display_name": "Python 3",
   "language": "python",
   "name": "python3"
  },
  "language_info": {
   "codemirror_mode": {
    "name": "ipython",
    "version": 3
   },
   "file_extension": ".py",
   "mimetype": "text/x-python",
   "name": "python",
   "nbconvert_exporter": "python",
   "pygments_lexer": "ipython3",
   "version": "3.6.5"
  }
 },
 "nbformat": 4,
 "nbformat_minor": 2
}
